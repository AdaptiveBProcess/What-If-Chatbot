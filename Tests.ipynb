{
 "cells": [
  {
   "cell_type": "code",
   "execution_count": 1,
   "metadata": {},
   "outputs": [],
   "source": [
    "import pandas as pd"
   ]
  },
  {
   "cell_type": "code",
   "execution_count": 2,
   "metadata": {},
   "outputs": [],
   "source": [
    "def extract_text(model_path, ptt_s, ptt_e):\n",
    "    with open(model_path) as file:\n",
    "        model= file.read()\n",
    "    lines = model.split('/n')\n",
    "    start, end = None, None\n",
    "    for idx, line in enumerate(lines):\n",
    "        if ptt_s in line and start == None:\n",
    "            start = idx\n",
    "        if ptt_e in line and end == None:\n",
    "            end = idx\n",
    "        if start != None and end != None:\n",
    "            break\n",
    "    return '/n'.join(lines[start+1:end])"
   ]
  },
  {
   "cell_type": "code",
   "execution_count": 19,
   "metadata": {},
   "outputs": [],
   "source": [
    "def return_message_stats(stats_path, scenario_name):\n",
    "    \n",
    "    pd.set_option('display.float_format', lambda x: '%.2f' % x)\n",
    "    \n",
    "    ptt_s = 'Scenario statistics'\n",
    "    ptt_e = 'Process Cycle Time (s) distribution' \n",
    "    text = extract_text(stats_path, ptt_s, ptt_e)\n",
    "    \n",
    "    data = [x.split(',') for x in text.split('\\n') if x != '']\n",
    "    df = pd.DataFrame(data = data[1:], columns=data[0])\n",
    "    \n",
    "    df['Average'] = df['Average'].astype(float).astype(str).apply(lambda x: format(float(x),\".2f\"))\n",
    "    df = df[df['KPI']== 'Process Cycle Time (s)']\n",
    "\n",
    "    message = 'Average Stats for {} scenario: \\n'.format(scenario_name)\n",
    "    message += '\\n'.join(df['KPI'] + ': ' + df['Average'])\n",
    "    \n",
    "    return message"
   ]
  },
  {
   "cell_type": "code",
   "execution_count": 20,
   "metadata": {},
   "outputs": [],
   "source": [
    "csv_org_path = 'C:/CursosMaestria/Tesis/What-If-Chatbot/outputs/resources/output_baseline.csv'\n",
    "mes = return_message_stats(csv_org_path, 'Base')"
   ]
  }
 ],
 "metadata": {
  "kernelspec": {
   "display_name": "Python 3.10.4 ('DL')",
   "language": "python",
   "name": "python3"
  },
  "language_info": {
   "codemirror_mode": {
    "name": "ipython",
    "version": 3
   },
   "file_extension": ".py",
   "mimetype": "text/x-python",
   "name": "python",
   "nbconvert_exporter": "python",
   "pygments_lexer": "ipython3",
   "version": "3.10.4"
  },
  "orig_nbformat": 4,
  "vscode": {
   "interpreter": {
    "hash": "7b12e629898a100bac456066adb1052da5bab249d92357a99acd404c7e8e3e0e"
   }
  }
 },
 "nbformat": 4,
 "nbformat_minor": 2
}
