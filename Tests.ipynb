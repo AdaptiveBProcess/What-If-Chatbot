{
 "cells": [
  {
   "cell_type": "code",
   "execution_count": 2,
   "metadata": {},
   "outputs": [],
   "source": [
    "import pandas as pd\n",
    "from glob import glob\n",
    "import actions.utils_chatbot as u\n",
    "import re"
   ]
  },
  {
   "cell_type": "code",
   "execution_count": 5,
   "metadata": {},
   "outputs": [
    {
     "data": {
      "text/plain": [
       "{1: 'inputs\\\\PurchasingExample.bpmn', 2: 'inputs\\\\PurchasingExampleFunc.bpmn'}"
      ]
     },
     "execution_count": 5,
     "metadata": {},
     "output_type": "execute_result"
    }
   ],
   "source": []
  },
  {
   "cell_type": "code",
   "execution_count": null,
   "metadata": {},
   "outputs": [],
   "source": [
    "class ChooseModelForm(FormAction):\n",
    "\n",
    "    def name(self):\n",
    "        \"\"\"Unique identifier of the form\"\"\"\n",
    "        return \"choose_model_form\"\n",
    "\n",
    "    def required_slots(tracker: Tracker) -> List[Text]:\n",
    "        \"\"\"A list of required slots that the form has to fill\"\"\"\n",
    "\n",
    "        return [\"model\"]\n",
    "\n",
    "    def submit(self):\n",
    "        \"\"\"\n",
    "        Define what the form has to do\n",
    "        after all required slots are filled\n",
    "        \"\"\"\n",
    "        return []"
   ]
  },
  {
   "cell_type": "code",
   "execution_count": null,
   "metadata": {},
   "outputs": [],
   "source": [
    "class AskForModel(Action):\n",
    "    def name(self) -> Text:\n",
    "        return \"action_ask_model\"\n",
    "\n",
    "    def run(\n",
    "        self, dispatcher: CollectingDispatcher, tracker: Tracker, domain: Dict\n",
    "    ) -> List[EventType]:\n",
    "        \n",
    "        dispatcher.utter_message(text=\"Which of those models do you want to choose to create the scenarios?\")\n",
    "\n",
    "        models = {idx: x for idx, x in enumerate(glob('inputs/*.bpmn'), start=1)}\n",
    "        \n",
    "        for key in models.keys():\n",
    "            dispatcher.utter_message(text=json.dumps(models[key].split('/')[-1]))\n",
    "        \n",
    "        return []"
   ]
  },
  {
   "cell_type": "code",
   "execution_count": null,
   "metadata": {},
   "outputs": [],
   "source": [
    "class ValidateChooseModelForm(FormValidationAction):\n",
    "\n",
    "    def name(self) -> Text:\n",
    "        return \"validate_choose_model_form\"\n",
    "\n",
    "    @staticmethod\n",
    "    def models_db() -> List[Text]:\n",
    "        \"\"\"Database of supported models.\"\"\"\n",
    "\n",
    "        models = {idx: x for idx, x in enumerate(glob('inputs/*.bpmn'), start=1)}\n",
    "        return models\n",
    "\n",
    "    def validate_model(\n",
    "        self,\n",
    "        value: Text,\n",
    "        dispatcher: CollectingDispatcher,\n",
    "        tracker: Tracker,\n",
    "        domain: Dict[Text, Any],\n",
    "    ) -> Dict[Text, Any]:\n",
    "        \"\"\"Validate compared_scenarios value.\"\"\"\n",
    "\n",
    "        models = self.models_db()\n",
    "\n",
    "        if value in models.keys():\n",
    "            return {\"model\": models[value]}\n",
    "        else:\n",
    "            for key in models.keys():\n",
    "                dispatcher.utter_message(text='Please enter a valid option for model')\n",
    "                dispatcher.utter_message(text=json.dumps(models[key].split('/')[-1]))\n",
    "            return {\"model\": None}"
   ]
  }
 ],
 "metadata": {
  "kernelspec": {
   "display_name": "Python 3.10.4 ('DL')",
   "language": "python",
   "name": "python3"
  },
  "language_info": {
   "codemirror_mode": {
    "name": "ipython",
    "version": 3
   },
   "file_extension": ".py",
   "mimetype": "text/x-python",
   "name": "python",
   "nbconvert_exporter": "python",
   "pygments_lexer": "ipython3",
   "version": "3.10.4"
  },
  "orig_nbformat": 4,
  "vscode": {
   "interpreter": {
    "hash": "7b12e629898a100bac456066adb1052da5bab249d92357a99acd404c7e8e3e0e"
   }
  }
 },
 "nbformat": 4,
 "nbformat_minor": 2
}
