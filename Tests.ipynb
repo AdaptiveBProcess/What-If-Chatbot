{
 "cells": [
  {
   "cell_type": "code",
   "execution_count": 2,
   "metadata": {},
   "outputs": [],
   "source": [
    "import pandas as pd\n",
    "from glob import glob\n",
    "import actions.utils_chatbot as u\n",
    "import re"
   ]
  },
  {
   "cell_type": "code",
   "execution_count": 3,
   "metadata": {},
   "outputs": [],
   "source": [
    "bimp_path = 'C:/CursosMaestria/Tesis/What-If-Chatbot/bimp/qbp-simulator-engine_with_csv_statistics.jar'\n",
    "csv_org_path = 'C:/CursosMaestria/Tesis/What-If-Chatbot/outputs/resources/output_baseline.csv'\n",
    "model_path = 'C:/CursosMaestria/Tesis/What-If-Chatbot/inputs/PurchasingExample.bpmn'\n",
    "u.execute_simulator_simple(bimp_path, model_path, csv_org_path)"
   ]
  }
 ],
 "metadata": {
  "kernelspec": {
   "display_name": "Python 3.10.4 ('DL')",
   "language": "python",
   "name": "python3"
  },
  "language_info": {
   "codemirror_mode": {
    "name": "ipython",
    "version": 3
   },
   "file_extension": ".py",
   "mimetype": "text/x-python",
   "name": "python",
   "nbconvert_exporter": "python",
   "pygments_lexer": "ipython3",
   "version": "3.10.4"
  },
  "orig_nbformat": 4,
  "vscode": {
   "interpreter": {
    "hash": "7b12e629898a100bac456066adb1052da5bab249d92357a99acd404c7e8e3e0e"
   }
  }
 },
 "nbformat": 4,
 "nbformat_minor": 2
}
